{
 "cells": [
  {
   "cell_type": "code",
   "execution_count": 22,
   "metadata": {},
   "outputs": [],
   "source": [
    "import pandas as pd\n",
    "from sklearn.tree import DecisionTreeRegressor\n",
    "from sklearn.ensemble import RandomForestRegressor\n",
    "from sklearn.linear_model import LinearRegression,ElasticNet,Lasso\n",
    "from xgboost import XGBRegressor\n",
    "from sklearn.preprocessing import PolynomialFeatures\n",
    "from sklearn.model_selection import train_test_split\n",
    "from sklearn.metrics import mean_squared_error,r2_score,mean_absolute_error"
   ]
  },
  {
   "cell_type": "code",
   "execution_count": 3,
   "metadata": {},
   "outputs": [
    {
     "name": "stdout",
     "output_type": "stream",
     "text": [
      "<class 'pandas.core.frame.DataFrame'>\n",
      "RangeIndex: 17629 entries, 0 to 17628\n",
      "Data columns (total 22 columns):\n",
      " #   Column      Non-Null Count  Dtype  \n",
      "---  ------      --------------  -----  \n",
      " 0    Plocs      17629 non-null  int64  \n",
      " 1    MPlocs     17629 non-null  int64  \n",
      " 2    Tlocs      17629 non-null  int64  \n",
      " 3    MTlocs     17629 non-null  int64  \n",
      " 4    Classes    17629 non-null  int64  \n",
      " 5    Aclasses   17629 non-null  int64  \n",
      " 6    DClasses   17629 non-null  int64  \n",
      " 7    MClasses   17629 non-null  int64  \n",
      " 8    Methods    17629 non-null  int64  \n",
      " 9    AMethods   17629 non-null  int64  \n",
      " 10   DMethods   17629 non-null  int64  \n",
      " 11   MMethods   17629 non-null  int64  \n",
      " 12   CMMethods  17629 non-null  int64  \n",
      " 13  tool        17629 non-null  object \n",
      " 14   TLR        17629 non-null  float64\n",
      " 15   MTRL       17629 non-null  float64\n",
      " 16   MRTL       17629 non-null  float64\n",
      " 17   TMR        17629 non-null  float64\n",
      " 18   MCR        17629 non-null  float64\n",
      " 19   MMR        17629 non-null  float64\n",
      " 20   RFCR       17629 non-null  float64\n",
      " 21   FCR        17629 non-null  float64\n",
      "dtypes: float64(8), int64(13), object(1)\n",
      "memory usage: 3.0+ MB\n"
     ]
    }
   ],
   "source": [
    "df=pd.read_csv('all.csv')\n",
    "df.info()"
   ]
  },
  {
   "cell_type": "code",
   "execution_count": 4,
   "metadata": {},
   "outputs": [
    {
     "data": {
      "text/plain": [
       " Plocs        0\n",
       " MPlocs       0\n",
       " Tlocs        0\n",
       " MTlocs       0\n",
       " Classes      0\n",
       " Aclasses     0\n",
       " DClasses     0\n",
       " MClasses     0\n",
       " Methods      0\n",
       " AMethods     0\n",
       " DMethods     0\n",
       " MMethods     0\n",
       " CMMethods    0\n",
       "tool          0\n",
       " TLR          0\n",
       " MTRL         0\n",
       " MRTL         0\n",
       " TMR          0\n",
       " MCR          0\n",
       " MMR          0\n",
       " RFCR         0\n",
       " FCR          0\n",
       "dtype: int64"
      ]
     },
     "execution_count": 4,
     "metadata": {},
     "output_type": "execute_result"
    }
   ],
   "source": [
    "df.isna().sum()"
   ]
  },
  {
   "cell_type": "code",
   "execution_count": 5,
   "metadata": {},
   "outputs": [
    {
     "data": {
      "text/html": [
       "<div>\n",
       "<style scoped>\n",
       "    .dataframe tbody tr th:only-of-type {\n",
       "        vertical-align: middle;\n",
       "    }\n",
       "\n",
       "    .dataframe tbody tr th {\n",
       "        vertical-align: top;\n",
       "    }\n",
       "\n",
       "    .dataframe thead th {\n",
       "        text-align: right;\n",
       "    }\n",
       "</style>\n",
       "<table border=\"1\" class=\"dataframe\">\n",
       "  <thead>\n",
       "    <tr style=\"text-align: right;\">\n",
       "      <th></th>\n",
       "      <th>espresso</th>\n",
       "      <th>robolectric</th>\n",
       "      <th>robotium</th>\n",
       "      <th>uiautomator</th>\n",
       "    </tr>\n",
       "  </thead>\n",
       "  <tbody>\n",
       "    <tr>\n",
       "      <th>0</th>\n",
       "      <td>False</td>\n",
       "      <td>False</td>\n",
       "      <td>False</td>\n",
       "      <td>True</td>\n",
       "    </tr>\n",
       "    <tr>\n",
       "      <th>1</th>\n",
       "      <td>False</td>\n",
       "      <td>False</td>\n",
       "      <td>False</td>\n",
       "      <td>True</td>\n",
       "    </tr>\n",
       "    <tr>\n",
       "      <th>2</th>\n",
       "      <td>False</td>\n",
       "      <td>False</td>\n",
       "      <td>False</td>\n",
       "      <td>True</td>\n",
       "    </tr>\n",
       "    <tr>\n",
       "      <th>3</th>\n",
       "      <td>False</td>\n",
       "      <td>False</td>\n",
       "      <td>False</td>\n",
       "      <td>True</td>\n",
       "    </tr>\n",
       "    <tr>\n",
       "      <th>4</th>\n",
       "      <td>False</td>\n",
       "      <td>False</td>\n",
       "      <td>False</td>\n",
       "      <td>True</td>\n",
       "    </tr>\n",
       "  </tbody>\n",
       "</table>\n",
       "</div>"
      ],
      "text/plain": [
       "   espresso  robolectric  robotium  uiautomator\n",
       "0     False        False     False         True\n",
       "1     False        False     False         True\n",
       "2     False        False     False         True\n",
       "3     False        False     False         True\n",
       "4     False        False     False         True"
      ]
     },
     "execution_count": 5,
     "metadata": {},
     "output_type": "execute_result"
    }
   ],
   "source": [
    "tool=pd.get_dummies(df['tool'])\n",
    "tool.head()"
   ]
  },
  {
   "cell_type": "code",
   "execution_count": 6,
   "metadata": {},
   "outputs": [
    {
     "data": {
      "text/html": [
       "<div>\n",
       "<style scoped>\n",
       "    .dataframe tbody tr th:only-of-type {\n",
       "        vertical-align: middle;\n",
       "    }\n",
       "\n",
       "    .dataframe tbody tr th {\n",
       "        vertical-align: top;\n",
       "    }\n",
       "\n",
       "    .dataframe thead th {\n",
       "        text-align: right;\n",
       "    }\n",
       "</style>\n",
       "<table border=\"1\" class=\"dataframe\">\n",
       "  <thead>\n",
       "    <tr style=\"text-align: right;\">\n",
       "      <th></th>\n",
       "      <th>espresso</th>\n",
       "      <th>robolectric</th>\n",
       "      <th>robotium</th>\n",
       "      <th>uiautomator</th>\n",
       "    </tr>\n",
       "  </thead>\n",
       "  <tbody>\n",
       "    <tr>\n",
       "      <th>0</th>\n",
       "      <td>0</td>\n",
       "      <td>0</td>\n",
       "      <td>0</td>\n",
       "      <td>1</td>\n",
       "    </tr>\n",
       "    <tr>\n",
       "      <th>1</th>\n",
       "      <td>0</td>\n",
       "      <td>0</td>\n",
       "      <td>0</td>\n",
       "      <td>1</td>\n",
       "    </tr>\n",
       "    <tr>\n",
       "      <th>2</th>\n",
       "      <td>0</td>\n",
       "      <td>0</td>\n",
       "      <td>0</td>\n",
       "      <td>1</td>\n",
       "    </tr>\n",
       "    <tr>\n",
       "      <th>3</th>\n",
       "      <td>0</td>\n",
       "      <td>0</td>\n",
       "      <td>0</td>\n",
       "      <td>1</td>\n",
       "    </tr>\n",
       "    <tr>\n",
       "      <th>4</th>\n",
       "      <td>0</td>\n",
       "      <td>0</td>\n",
       "      <td>0</td>\n",
       "      <td>1</td>\n",
       "    </tr>\n",
       "  </tbody>\n",
       "</table>\n",
       "</div>"
      ],
      "text/plain": [
       "   espresso  robolectric  robotium  uiautomator\n",
       "0         0            0         0            1\n",
       "1         0            0         0            1\n",
       "2         0            0         0            1\n",
       "3         0            0         0            1\n",
       "4         0            0         0            1"
      ]
     },
     "execution_count": 6,
     "metadata": {},
     "output_type": "execute_result"
    }
   ],
   "source": [
    "tool=tool.astype(int)\n",
    "tool.head()"
   ]
  },
  {
   "cell_type": "code",
   "execution_count": 7,
   "metadata": {},
   "outputs": [
    {
     "data": {
      "text/html": [
       "<div>\n",
       "<style scoped>\n",
       "    .dataframe tbody tr th:only-of-type {\n",
       "        vertical-align: middle;\n",
       "    }\n",
       "\n",
       "    .dataframe tbody tr th {\n",
       "        vertical-align: top;\n",
       "    }\n",
       "\n",
       "    .dataframe thead th {\n",
       "        text-align: right;\n",
       "    }\n",
       "</style>\n",
       "<table border=\"1\" class=\"dataframe\">\n",
       "  <thead>\n",
       "    <tr style=\"text-align: right;\">\n",
       "      <th></th>\n",
       "      <th>Plocs</th>\n",
       "      <th>MPlocs</th>\n",
       "      <th>Tlocs</th>\n",
       "      <th>MTlocs</th>\n",
       "      <th>Classes</th>\n",
       "      <th>Aclasses</th>\n",
       "      <th>DClasses</th>\n",
       "      <th>MClasses</th>\n",
       "      <th>Methods</th>\n",
       "      <th>AMethods</th>\n",
       "      <th>DMethods</th>\n",
       "      <th>MMethods</th>\n",
       "      <th>CMMethods</th>\n",
       "      <th>espresso</th>\n",
       "      <th>robolectric</th>\n",
       "      <th>robotium</th>\n",
       "      <th>uiautomator</th>\n",
       "    </tr>\n",
       "  </thead>\n",
       "  <tbody>\n",
       "    <tr>\n",
       "      <th>0</th>\n",
       "      <td>1897</td>\n",
       "      <td>-1</td>\n",
       "      <td>471</td>\n",
       "      <td>-1</td>\n",
       "      <td>1</td>\n",
       "      <td>-1</td>\n",
       "      <td>-1</td>\n",
       "      <td>-1</td>\n",
       "      <td>17</td>\n",
       "      <td>-1</td>\n",
       "      <td>-1</td>\n",
       "      <td>-1</td>\n",
       "      <td>-1</td>\n",
       "      <td>0</td>\n",
       "      <td>0</td>\n",
       "      <td>0</td>\n",
       "      <td>1</td>\n",
       "    </tr>\n",
       "    <tr>\n",
       "      <th>1</th>\n",
       "      <td>1895</td>\n",
       "      <td>4</td>\n",
       "      <td>471</td>\n",
       "      <td>0</td>\n",
       "      <td>1</td>\n",
       "      <td>0</td>\n",
       "      <td>0</td>\n",
       "      <td>0</td>\n",
       "      <td>17</td>\n",
       "      <td>0</td>\n",
       "      <td>0</td>\n",
       "      <td>0</td>\n",
       "      <td>0</td>\n",
       "      <td>0</td>\n",
       "      <td>0</td>\n",
       "      <td>0</td>\n",
       "      <td>1</td>\n",
       "    </tr>\n",
       "    <tr>\n",
       "      <th>2</th>\n",
       "      <td>1899</td>\n",
       "      <td>58</td>\n",
       "      <td>471</td>\n",
       "      <td>6</td>\n",
       "      <td>1</td>\n",
       "      <td>0</td>\n",
       "      <td>0</td>\n",
       "      <td>1</td>\n",
       "      <td>17</td>\n",
       "      <td>0</td>\n",
       "      <td>0</td>\n",
       "      <td>3</td>\n",
       "      <td>1</td>\n",
       "      <td>0</td>\n",
       "      <td>0</td>\n",
       "      <td>0</td>\n",
       "      <td>1</td>\n",
       "    </tr>\n",
       "    <tr>\n",
       "      <th>3</th>\n",
       "      <td>1938</td>\n",
       "      <td>81</td>\n",
       "      <td>471</td>\n",
       "      <td>0</td>\n",
       "      <td>1</td>\n",
       "      <td>0</td>\n",
       "      <td>0</td>\n",
       "      <td>0</td>\n",
       "      <td>17</td>\n",
       "      <td>0</td>\n",
       "      <td>0</td>\n",
       "      <td>0</td>\n",
       "      <td>0</td>\n",
       "      <td>0</td>\n",
       "      <td>0</td>\n",
       "      <td>0</td>\n",
       "      <td>1</td>\n",
       "    </tr>\n",
       "    <tr>\n",
       "      <th>4</th>\n",
       "      <td>1938</td>\n",
       "      <td>0</td>\n",
       "      <td>471</td>\n",
       "      <td>0</td>\n",
       "      <td>1</td>\n",
       "      <td>0</td>\n",
       "      <td>0</td>\n",
       "      <td>0</td>\n",
       "      <td>17</td>\n",
       "      <td>0</td>\n",
       "      <td>0</td>\n",
       "      <td>0</td>\n",
       "      <td>0</td>\n",
       "      <td>0</td>\n",
       "      <td>0</td>\n",
       "      <td>0</td>\n",
       "      <td>1</td>\n",
       "    </tr>\n",
       "  </tbody>\n",
       "</table>\n",
       "</div>"
      ],
      "text/plain": [
       "    Plocs   MPlocs   Tlocs   MTlocs   Classes   Aclasses   DClasses  \\\n",
       "0    1897       -1     471       -1         1         -1         -1   \n",
       "1    1895        4     471        0         1          0          0   \n",
       "2    1899       58     471        6         1          0          0   \n",
       "3    1938       81     471        0         1          0          0   \n",
       "4    1938        0     471        0         1          0          0   \n",
       "\n",
       "    MClasses   Methods   AMethods   DMethods   MMethods   CMMethods  espresso  \\\n",
       "0         -1        17         -1         -1         -1          -1         0   \n",
       "1          0        17          0          0          0           0         0   \n",
       "2          1        17          0          0          3           1         0   \n",
       "3          0        17          0          0          0           0         0   \n",
       "4          0        17          0          0          0           0         0   \n",
       "\n",
       "   robolectric  robotium  uiautomator  \n",
       "0            0         0            1  \n",
       "1            0         0            1  \n",
       "2            0         0            1  \n",
       "3            0         0            1  \n",
       "4            0         0            1  "
      ]
     },
     "execution_count": 7,
     "metadata": {},
     "output_type": "execute_result"
    }
   ],
   "source": [
    "X=df.iloc[:,0:13].join(tool)\n",
    "X.head()"
   ]
  },
  {
   "cell_type": "code",
   "execution_count": 8,
   "metadata": {},
   "outputs": [],
   "source": [
    "for i in X:\n",
    "    X[i]=X[i].astype('float64')"
   ]
  },
  {
   "cell_type": "code",
   "execution_count": 9,
   "metadata": {},
   "outputs": [
    {
     "name": "stdout",
     "output_type": "stream",
     "text": [
      "<class 'pandas.core.frame.DataFrame'>\n",
      "RangeIndex: 17629 entries, 0 to 17628\n",
      "Data columns (total 17 columns):\n",
      " #   Column       Non-Null Count  Dtype  \n",
      "---  ------       --------------  -----  \n",
      " 0    Plocs       17629 non-null  float64\n",
      " 1    MPlocs      17629 non-null  float64\n",
      " 2    Tlocs       17629 non-null  float64\n",
      " 3    MTlocs      17629 non-null  float64\n",
      " 4    Classes     17629 non-null  float64\n",
      " 5    Aclasses    17629 non-null  float64\n",
      " 6    DClasses    17629 non-null  float64\n",
      " 7    MClasses    17629 non-null  float64\n",
      " 8    Methods     17629 non-null  float64\n",
      " 9    AMethods    17629 non-null  float64\n",
      " 10   DMethods    17629 non-null  float64\n",
      " 11   MMethods    17629 non-null  float64\n",
      " 12   CMMethods   17629 non-null  float64\n",
      " 13  espresso     17629 non-null  float64\n",
      " 14  robolectric  17629 non-null  float64\n",
      " 15  robotium     17629 non-null  float64\n",
      " 16  uiautomator  17629 non-null  float64\n",
      "dtypes: float64(17)\n",
      "memory usage: 2.3 MB\n"
     ]
    }
   ],
   "source": [
    "X.info()"
   ]
  },
  {
   "cell_type": "code",
   "execution_count": 10,
   "metadata": {},
   "outputs": [
    {
     "data": {
      "text/html": [
       "<div>\n",
       "<style scoped>\n",
       "    .dataframe tbody tr th:only-of-type {\n",
       "        vertical-align: middle;\n",
       "    }\n",
       "\n",
       "    .dataframe tbody tr th {\n",
       "        vertical-align: top;\n",
       "    }\n",
       "\n",
       "    .dataframe thead th {\n",
       "        text-align: right;\n",
       "    }\n",
       "</style>\n",
       "<table border=\"1\" class=\"dataframe\">\n",
       "  <thead>\n",
       "    <tr style=\"text-align: right;\">\n",
       "      <th></th>\n",
       "      <th>TLR</th>\n",
       "      <th>MTRL</th>\n",
       "      <th>MRTL</th>\n",
       "      <th>TMR</th>\n",
       "      <th>MCR</th>\n",
       "      <th>MMR</th>\n",
       "      <th>RFCR</th>\n",
       "      <th>FCR</th>\n",
       "    </tr>\n",
       "  </thead>\n",
       "  <tbody>\n",
       "    <tr>\n",
       "      <th>0</th>\n",
       "      <td>0.248287</td>\n",
       "      <td>-1.000000</td>\n",
       "      <td>-1.000000</td>\n",
       "      <td>-1.000000</td>\n",
       "      <td>-1.0</td>\n",
       "      <td>-1.000000</td>\n",
       "      <td>-1.0</td>\n",
       "      <td>-1.0</td>\n",
       "    </tr>\n",
       "    <tr>\n",
       "      <th>1</th>\n",
       "      <td>0.248549</td>\n",
       "      <td>0.000000</td>\n",
       "      <td>0.000000</td>\n",
       "      <td>0.000000</td>\n",
       "      <td>0.0</td>\n",
       "      <td>0.000000</td>\n",
       "      <td>-1.0</td>\n",
       "      <td>0.0</td>\n",
       "    </tr>\n",
       "    <tr>\n",
       "      <th>2</th>\n",
       "      <td>0.248025</td>\n",
       "      <td>0.012739</td>\n",
       "      <td>0.103448</td>\n",
       "      <td>0.416209</td>\n",
       "      <td>1.0</td>\n",
       "      <td>0.176471</td>\n",
       "      <td>1.0</td>\n",
       "      <td>1.0</td>\n",
       "    </tr>\n",
       "    <tr>\n",
       "      <th>3</th>\n",
       "      <td>0.243034</td>\n",
       "      <td>0.000000</td>\n",
       "      <td>0.000000</td>\n",
       "      <td>0.000000</td>\n",
       "      <td>0.0</td>\n",
       "      <td>0.000000</td>\n",
       "      <td>-1.0</td>\n",
       "      <td>0.0</td>\n",
       "    </tr>\n",
       "    <tr>\n",
       "      <th>4</th>\n",
       "      <td>0.243034</td>\n",
       "      <td>0.000000</td>\n",
       "      <td>-1.000000</td>\n",
       "      <td>-1.000000</td>\n",
       "      <td>0.0</td>\n",
       "      <td>0.000000</td>\n",
       "      <td>-1.0</td>\n",
       "      <td>0.0</td>\n",
       "    </tr>\n",
       "  </tbody>\n",
       "</table>\n",
       "</div>"
      ],
      "text/plain": [
       "        TLR      MTRL      MRTL       TMR   MCR       MMR   RFCR   FCR\n",
       "0  0.248287 -1.000000 -1.000000 -1.000000  -1.0 -1.000000   -1.0  -1.0\n",
       "1  0.248549  0.000000  0.000000  0.000000   0.0  0.000000   -1.0   0.0\n",
       "2  0.248025  0.012739  0.103448  0.416209   1.0  0.176471    1.0   1.0\n",
       "3  0.243034  0.000000  0.000000  0.000000   0.0  0.000000   -1.0   0.0\n",
       "4  0.243034  0.000000 -1.000000 -1.000000   0.0  0.000000   -1.0   0.0"
      ]
     },
     "execution_count": 10,
     "metadata": {},
     "output_type": "execute_result"
    }
   ],
   "source": [
    "Y=df.iloc[:,14:22]\n",
    "Y.head()"
   ]
  },
  {
   "cell_type": "code",
   "execution_count": 11,
   "metadata": {},
   "outputs": [],
   "source": [
    "X_train, X_test, y_train, y_test = train_test_split(X, Y, test_size=0.30, random_state=42)"
   ]
  },
  {
   "cell_type": "code",
   "execution_count": 12,
   "metadata": {},
   "outputs": [],
   "source": [
    "dt=DecisionTreeRegressor(max_depth=8)\n",
    "dt.fit(X_train,y_train)\n",
    "y_pred=dt.predict(X_test)"
   ]
  },
  {
   "cell_type": "code",
   "execution_count": 13,
   "metadata": {},
   "outputs": [
    {
     "name": "stdout",
     "output_type": "stream",
     "text": [
      "The mean_absolute_error 0.053307516998531784\n",
      "The mean_squared_error 0.5144271983601069\n",
      "The r2_score 0.8366616567502807\n"
     ]
    }
   ],
   "source": [
    "mae = mean_absolute_error(y_test, y_pred)\n",
    "mse = mean_squared_error(y_test, y_pred)\n",
    "r2 = r2_score(y_test, y_pred)\n",
    "print(f'The mean_absolute_error {mae}')\n",
    "print(f'The mean_squared_error {mse}')\n",
    "print(f'The r2_score {r2}')"
   ]
  },
  {
   "cell_type": "code",
   "execution_count": 14,
   "metadata": {},
   "outputs": [
    {
     "name": "stdout",
     "output_type": "stream",
     "text": [
      "The mean_absolute_error 0.04902587072660272\n",
      "The mean_squared_error 0.3956769189326229\n",
      "The r2_score 0.8729415500121698\n"
     ]
    }
   ],
   "source": [
    "dt=RandomForestRegressor(max_depth=8)\n",
    "dt.fit(X_train,y_train)\n",
    "y_pred=dt.predict(X_test)\n",
    "mae = mean_absolute_error(y_test, y_pred)\n",
    "mse = mean_squared_error(y_test, y_pred)\n",
    "r2 = r2_score(y_test, y_pred)\n",
    "print(f'The mean_absolute_error {mae}')\n",
    "print(f'The mean_squared_error {mse}')\n",
    "print(f'The r2_score {r2}')"
   ]
  },
  {
   "cell_type": "code",
   "execution_count": 15,
   "metadata": {},
   "outputs": [
    {
     "name": "stdout",
     "output_type": "stream",
     "text": [
      "The mean_absolute_error 0.425027917759365\n",
      "The mean_squared_error 0.8813956124579717\n",
      "The r2_score 0.19209016230684403\n"
     ]
    }
   ],
   "source": [
    "dt=LinearRegression()\n",
    "dt.fit(X_train,y_train)\n",
    "y_pred=dt.predict(X_test)\n",
    "mae = mean_absolute_error(y_test, y_pred)\n",
    "mse = mean_squared_error(y_test, y_pred)\n",
    "r2 = r2_score(y_test, y_pred)\n",
    "print(f'The mean_absolute_error {mae}')\n",
    "print(f'The mean_squared_error {mse}')\n",
    "print(f'The r2_score {r2}')"
   ]
  },
  {
   "cell_type": "code",
   "execution_count": 16,
   "metadata": {},
   "outputs": [
    {
     "name": "stdout",
     "output_type": "stream",
     "text": [
      "The mean_absolute_error 0.4469299028034617\n",
      "The mean_squared_error 0.9099146721673808\n",
      "The r2_score 0.12186019916752434\n"
     ]
    }
   ],
   "source": [
    "dt=ElasticNet()\n",
    "dt.fit(X_train,y_train)\n",
    "y_pred=dt.predict(X_test)\n",
    "mae = mean_absolute_error(y_test, y_pred)\n",
    "mse = mean_squared_error(y_test, y_pred)\n",
    "r2 = r2_score(y_test, y_pred)\n",
    "print(f'The mean_absolute_error {mae}')\n",
    "print(f'The mean_squared_error {mse}')\n",
    "print(f'The r2_score {r2}')"
   ]
  },
  {
   "cell_type": "code",
   "execution_count": 17,
   "metadata": {},
   "outputs": [
    {
     "name": "stdout",
     "output_type": "stream",
     "text": [
      "The mean_absolute_error 0.023994790821656488\n",
      "The mean_squared_error 0.21206177766864898\n",
      "The r2_score 0.9575178602971579\n"
     ]
    }
   ],
   "source": [
    "dt=XGBRegressor()\n",
    "dt.fit(X_train,y_train)\n",
    "y_pred=dt.predict(X_test)\n",
    "mae = mean_absolute_error(y_test, y_pred)\n",
    "mse = mean_squared_error(y_test, y_pred)\n",
    "r2 = r2_score(y_test, y_pred)\n",
    "print(f'The mean_absolute_error {mae}')\n",
    "print(f'The mean_squared_error {mse}')\n",
    "print(f'The r2_score {r2}')\n"
   ]
  },
  {
   "cell_type": "code",
   "execution_count": 18,
   "metadata": {},
   "outputs": [],
   "source": [
    "dt.save_model(\"xgbreg.json\")"
   ]
  },
  {
   "cell_type": "code",
   "execution_count": 19,
   "metadata": {},
   "outputs": [],
   "source": [
    "X.to_csv('X.csv')"
   ]
  },
  {
   "cell_type": "code",
   "execution_count": 21,
   "metadata": {},
   "outputs": [
    {
     "name": "stdout",
     "output_type": "stream",
     "text": [
      "The mean_absolute_error 0.4470604829743266\n",
      "The mean_squared_error 0.9106863377028751\n",
      "The r2_score 0.11937058448764909\n"
     ]
    }
   ],
   "source": [
    "dt=Lasso()\n",
    "dt.fit(X_train,y_train)\n",
    "y_pred=dt.predict(X_test)\n",
    "mae = mean_absolute_error(y_test, y_pred)\n",
    "mse = mean_squared_error(y_test, y_pred)\n",
    "r2 = r2_score(y_test, y_pred)\n",
    "print(f'The mean_absolute_error {mae}')\n",
    "print(f'The mean_squared_error {mse}')\n",
    "print(f'The r2_score {r2}')"
   ]
  }
 ],
 "metadata": {
  "kernelspec": {
   "display_name": "Python 3",
   "language": "python",
   "name": "python3"
  },
  "language_info": {
   "codemirror_mode": {
    "name": "ipython",
    "version": 3
   },
   "file_extension": ".py",
   "mimetype": "text/x-python",
   "name": "python",
   "nbconvert_exporter": "python",
   "pygments_lexer": "ipython3",
   "version": "3.10.11"
  },
  "orig_nbformat": 4
 },
 "nbformat": 4,
 "nbformat_minor": 2
}
